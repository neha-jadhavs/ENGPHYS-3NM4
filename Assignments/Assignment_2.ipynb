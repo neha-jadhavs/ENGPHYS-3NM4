{
  "cells": [
    {
      "cell_type": "markdown",
      "metadata": {
        "id": "Ws-hQdMF_eFk"
      },
      "source": [
        "# Assignment 2\n",
        "\n",
        "Due EOD Thursday Oct 2nd"
      ]
    },
    {
      "cell_type": "markdown",
      "metadata": {
        "id": "gVHY7luCuOM5"
      },
      "source": [
        "## Question 1"
      ]
    },
    {
      "cell_type": "markdown",
      "metadata": {
        "id": "tzlJgZj4ujfO"
      },
      "source": [
        "A nuclear fuel pellet is a cylinder, 1.5 cm in lenth and 1 cm in diameter. Assume the surface temperature is 300 C everywhere. Given temperature probe data below, determine the radial temperature profile in the middle of a nuclear fuel pellet (i.e.: T(r, z = 0.75)) using radial basis functions.\n"
      ]
    },
    {
      "cell_type": "code",
      "execution_count": null,
      "metadata": {
        "id": "teHBKZ4FBV1R"
      },
      "outputs": [],
      "source": [
        "import numpy as np\n",
        "\n",
        "# 20 data points presented in columns: | x | y | z | T |, measurements in cm\n",
        "\n",
        "data = np.array([\n",
        "    [5.1690e-02, 2.3766e-01, 6.7059e-01, 5.2645e+02],\n",
        "    [1.1353e-01, 9.4708e-02, 5.3856e-01, 5.5201e+02],\n",
        "    [1.6676e-01, 1.4358e-01, 4.6936e-01, 5.0802e+02],\n",
        "    [1.3610e-01, 3.7207e-02, 2.1694e-01, 4.3663e+02],\n",
        "    [8.9225e-02, 3.7293e-01, 1.1270e+00, 3.9234e+02],\n",
        "    [1.9001e-01, 3.7240e-01, 8.4774e-01, 3.8872e+02],\n",
        "    [5.4849e-02, 3.5425e-01, 5.7478e-01, 4.3784e+02],\n",
        "    [1.7001e-01, 2.0241e-01, 1.2960e+00, 4.0159e+02],\n",
        "    [2.0606e-01, 3.1594e-01, 6.4077e-01, 4.2652e+02],\n",
        "    [2.5382e-01, 2.5859e-01, 4.8610e-01, 4.2481e+02],\n",
        "    [5.6038e-02, 8.2231e-02, 4.2029e-01, 5.3244e+02],\n",
        "    [3.1242e-01, 8.0489e-02, 1.1530e+00, 4.2453e+02],\n",
        "    [6.0186e-02, 4.4891e-01, 3.9941e-01, 3.4207e+02],\n",
        "    [1.5070e-01, 3.4794e-01, 1.5595e-01, 3.4750e+02],\n",
        "    [1.8215e-01, 3.4388e-01, 1.0478e+00, 3.9963e+02],\n",
        "    [1.1633e-01, 4.1011e-01, 5.5001e-01, 3.7611e+02],\n",
        "    [1.2377e-01, 3.3703e-01, 3.7672e-02, 3.1423e+02],\n",
        "    [4.6378e-02, 3.3653e-01, 1.4434e+00, 3.2345e+02],\n",
        "    [2.9063e-02, 3.2584e-02, 2.3977e-01, 4.5993e+02],\n",
        "    [2.1162e-02, 3.8590e-01, 2.5905e-01, 3.6901e+02]\n",
        "])"
      ]
    },
    {
      "cell_type": "markdown",
      "metadata": {
        "id": "zFtqw1cq07DR"
      },
      "source": [
        "Consider what you know about this system. What extra information do you have in terms of"
      ]
    },
    {
      "cell_type": "markdown",
      "metadata": {
        "id": "Pxk1gteZGS00"
      },
      "source": [
        "### a) type(s) of symmetry?\n",
        "\n",
        "{answer}"
      ]
    },
    {
      "cell_type": "markdown",
      "metadata": {
        "id": "25fe7b17"
      },
      "source": [
        "a) Based on the description of the nuclear fuel pellet as a cylinder, the system exhibits axial and radial symmetry."
      ]
    },
    {
      "cell_type": "markdown",
      "metadata": {
        "id": "3Gv7EX7Baq0Y"
      },
      "source": [
        "### b) Boundary conditions?\n",
        "\n",
        "{answer}"
      ]
    },
    {
      "cell_type": "markdown",
      "metadata": {
        "id": "9d0b6a65"
      },
      "source": [
        "b) The boundary condition is that the surface temperature of the nuclear fuel pellet is 300 C everywhere. This means that at any point on the surface of the cylinder (where r = 0.5 cm or z = 0 or z = 1.5 cm), the temperature T is 300 C."
      ]
    },
    {
      "cell_type": "markdown",
      "metadata": {
        "id": "4rYtvWLt1My3"
      },
      "source": [
        "## c) Plot the best guess of the radial temperature profile\n",
        "\n",
        "Note: RBFs will fail with a linear solver error if two data points exactly overlap.\n",
        "\n",
        "{Method, implementation, answer, answer}"
      ]
    },
    {
      "cell_type": "code",
      "source": [
        "# Extract data points near the middle of the pellet (z = 0.75 cm)\n",
        "# We'll use a tolerance to consider points \"near\" z = 0.75 cm\n",
        "tolerance = 0.1 # Define a suitable tolerance\n",
        "\n",
        "mid_pellet_data = data[np.abs(data[:, 2] - 0.75) < tolerance]\n",
        "\n",
        "print(\"Data points near the middle of the pellet:\")\n",
        "display(mid_pellet_data)"
      ],
      "metadata": {
        "colab": {
          "base_uri": "https://localhost:8080/",
          "height": 71
        },
        "id": "0EJWMmPeBBY2",
        "outputId": "a03e56a8-fbc5-4c79-e483-d3ef3bc1bbcd"
      },
      "execution_count": 5,
      "outputs": [
        {
          "output_type": "stream",
          "name": "stdout",
          "text": [
            "Data points near the middle of the pellet:\n"
          ]
        },
        {
          "output_type": "display_data",
          "data": {
            "text/plain": [
              "array([[5.1690e-02, 2.3766e-01, 6.7059e-01, 5.2645e+02],\n",
              "       [1.9001e-01, 3.7240e-01, 8.4774e-01, 3.8872e+02]])"
            ]
          },
          "metadata": {}
        }
      ]
    },
    {
      "cell_type": "code",
      "metadata": {
        "colab": {
          "base_uri": "https://localhost:8080/",
          "height": 564
        },
        "id": "0b6e029b",
        "outputId": "b6cd97fb-4aed-45b0-8506-6122f74235b3"
      },
      "source": [
        "import matplotlib.pyplot as plt\n",
        "\n",
        "# Calculate the interpolated temperatures at the plotting points\n",
        "# Calculate the distance matrix between the plotting points and the original data points\n",
        "distance_matrix_plot = cdist(plot_radial_distances.reshape(-1, 1), radial_distances.reshape(-1, 1), metric='euclidean')\n",
        "\n",
        "# Calculate the RBF values for the plotting points\n",
        "rbf_values_plot = inverse_multiquadric(distance_matrix_plot, epsilon)\n",
        "\n",
        "# Calculate the interpolated temperatures\n",
        "interpolated_temperatures = rbf_values_plot.dot(weights)\n",
        "\n",
        "# Plot the radial temperature profile\n",
        "plt.figure(figsize=(8, 6))\n",
        "plt.plot(plot_radial_distances, interpolated_temperatures, label='RBF Interpolation')\n",
        "plt.scatter(radial_distances, temperatures, color='red', label='Data Points')\n",
        "plt.xlabel('Radial Distance (cm)')\n",
        "plt.ylabel('Temperature (C)')\n",
        "plt.title('Radial Temperature Profile in the Middle of the Pellet')\n",
        "plt.legend()\n",
        "plt.grid(True)\n",
        "plt.show()"
      ],
      "execution_count": 9,
      "outputs": [
        {
          "output_type": "display_data",
          "data": {
            "text/plain": [
              "<Figure size 800x600 with 1 Axes>"
            ],
            "image/png": "[encoded data removed]"
          },
          "metadata": {}
        }
      ]
    },
    {
      "cell_type": "code",
      "metadata": {
        "id": "c72c813a"
      },
      "source": [
        "# Generate points for plotting the radial temperature profile\n",
        "# The radius of the pellet is 0.5 cm\n",
        "plot_radial_distances = np.linspace(0, 0.5, 100) # Generate 100 points from the center to the edge"
      ],
      "execution_count": 8,
      "outputs": []
    },
    {
      "cell_type": "code",
      "metadata": {
        "colab": {
          "base_uri": "https://localhost:8080/",
          "height": 53
        },
        "id": "2150ffe2",
        "outputId": "e2df170a-66c3-462e-ab50-0f2e0439dc83"
      },
      "source": [
        "from scipy.spatial.distance import cdist\n",
        "\n",
        "# Define the inverse multiquadric RBF\n",
        "def inverse_multiquadric(r, epsilon):\n",
        "    return 1.0 / np.sqrt(1.0 + (epsilon * r)**2)\n",
        "\n",
        "# Choose an epsilon parameter (this may need tuning)\n",
        "epsilon = 5.0\n",
        "\n",
        "# Calculate the distance matrix between the radial distances\n",
        "distance_matrix = cdist(radial_distances.reshape(-1, 1), radial_distances.reshape(-1, 1), metric='euclidean')\n",
        "\n",
        "# Calculate the RBF matrix\n",
        "rbf_matrix = inverse_multiquadric(distance_matrix, epsilon)\n",
        "\n",
        "# Solve for the weights\n",
        "weights = np.linalg.solve(rbf_matrix, temperatures)\n",
        "\n",
        "print(\"RBF weights:\")\n",
        "display(weights)"
      ],
      "execution_count": 7,
      "outputs": [
        {
          "output_type": "stream",
          "name": "stdout",
          "text": [
            "RBF weights:\n"
          ]
        },
        {
          "output_type": "display_data",
          "data": {
            "text/plain": [
              "array([539.68125116, -17.57505557])"
            ]
          },
          "metadata": {}
        }
      ]
    },
    {
      "cell_type": "code",
      "metadata": {
        "colab": {
          "base_uri": "https://localhost:8080/",
          "height": 71
        },
        "id": "76f94cca",
        "outputId": "a36a4408-25d4-475d-9c66-3b88600c1a9c"
      },
      "source": [
        "# Calculate the radial distance from the center (0,0) for the mid-pellet data\n",
        "# The center of the pellet is assumed to be at (0, 0) in the x-y plane.\n",
        "radial_distances = np.sqrt(mid_pellet_data[:, 0]**2 + mid_pellet_data[:, 1]**2)\n",
        "\n",
        "# Extract the temperatures for the mid-pellet data\n",
        "temperatures = mid_pellet_data[:, 3]\n",
        "\n",
        "print(\"Radial distances and corresponding temperatures:\")\n",
        "display(np.column_stack((radial_distances, temperatures)))"
      ],
      "execution_count": 6,
      "outputs": [
        {
          "output_type": "stream",
          "name": "stdout",
          "text": [
            "Radial distances and corresponding temperatures:\n"
          ]
        },
        {
          "output_type": "display_data",
          "data": {
            "text/plain": [
              "array([[2.43216224e-01, 5.26450000e+02],\n",
              "       [4.18073630e-01, 3.88720000e+02]])"
            ]
          },
          "metadata": {}
        }
      ]
    },
    {
      "cell_type": "markdown",
      "metadata": {
        "id": "mJ_sOFpRoAE-"
      },
      "source": [
        "# Question 2"
      ]
    },
    {
      "cell_type": "markdown",
      "metadata": {
        "id": "MJDwzhB7oBzW"
      },
      "source": [
        "You run an experiment and obtain the following data:\n",
        "\n",
        "| x | y1 | y2 | y3 | y4 | y5 |\n",
        "|---|---|---|---| --- | --- |\n",
        "| 0.00 | -29.49 | -2.14 | 15.88 | 22.69 | 28.53 |\n",
        "| 1.11 | 2.83 | 18.02 | -25.45 | -32.45 | 7.50 |\n",
        "| 2.22 | 1.97 | -10.49 | -0.18 | -32.10 | -40.31 |\n",
        "| 3.33 | -38.09 | -46.16 | -7.87 | -33.97 | -38.39 |\n",
        "| 4.44 | -3.97 | -32.22 | -33.95 | -11.07 | -32.47 |\n",
        "| 5.56 | 4.45 | -10.88 | 20.43 | 6.57 | -8.49 |\n",
        "| 6.67 | 50.22 | 51.29 | 80.02 | 66.15 | 84.90 |\n",
        "| 7.78 | 164.11 | 190.26 | 160.94 | 182.35 | 163.18 |\n",
        "| 8.89 | 331.75 | 306.51 | 278.40 | 302.13 | 335.44 |\n",
        "| 10.00 | 517.06 | 483.20 | 476.73 | 512.16 | 500.64 |\n",
        "\n"
      ]
    },
    {
      "cell_type": "code",
      "execution_count": null,
      "metadata": {
        "id": "bnHD3ChWB0Z8"
      },
      "outputs": [],
      "source": [
        "import numpy as np\n",
        "\n",
        "# Define the table as a list of lists\n",
        "d = np.array([\n",
        "    [0.00, -29.49, -2.14, 15.88, 22.69, 28.53],\n",
        "    [1.11, 2.83, 18.02, -25.45, -32.45, 7.50],\n",
        "    [2.22, 1.97, -10.49, -0.18, -32.10, -40.31],\n",
        "    [3.33, -38.09, -46.16, -7.87, -33.97, -38.39],\n",
        "    [4.44, -3.97, -32.22, -33.95, -11.07, -32.47],\n",
        "    [5.56, 4.45, -10.88, 20.43, 6.57, -8.49],\n",
        "    [6.67, 50.22, 51.29, 80.02, 66.15, 84.90],\n",
        "    [7.78, 164.11, 190.26, 160.94, 182.35, 163.18],\n",
        "    [8.89, 331.75, 306.51, 278.40, 302.13, 335.44],\n",
        "    [10.00, 517.06, 483.20, 476.73, 512.16, 500.64]\n",
        "])"
      ]
    },
    {
      "cell_type": "markdown",
      "metadata": {
        "id": "UsMadC7N4Ygy"
      },
      "source": [
        "## a) Determine the best cubic polynomial fit to this data with the uncertainty\n",
        "\n",
        "{method, implementation, answer}"
      ]
    },
    {
      "cell_type": "code",
      "source": [
        "# Separate the x and y values\n",
        "x_data = d[:, 0]\n",
        "y_data = d[:, 1:] # Select all columns from the second one onwards\n",
        "\n",
        "print(\"x-values:\")\n",
        "display(x_data)\n",
        "\n",
        "print(\"\\ny-values (all columns):\")\n",
        "display(y_data)"
      ],
      "metadata": {
        "colab": {
          "base_uri": "https://localhost:8080/",
          "height": 285
        },
        "id": "saxMl9IrDeJO",
        "outputId": "bf949a1e-457c-463c-c1ce-8cd62df846cc"
      },
      "execution_count": 10,
      "outputs": [
        {
          "output_type": "stream",
          "name": "stdout",
          "text": [
            "x-values:\n"
          ]
        },
        {
          "output_type": "display_data",
          "data": {
            "text/plain": [
              "array([ 0.  ,  1.11,  2.22,  3.33,  4.44,  5.56,  6.67,  7.78,  8.89,\n",
              "       10.  ])"
            ]
          },
          "metadata": {}
        },
        {
          "output_type": "stream",
          "name": "stdout",
          "text": [
            "\n",
            "y-values (all columns):\n"
          ]
        },
        {
          "output_type": "display_data",
          "data": {
            "text/plain": [
              "array([[-2.9490e+01, -2.1400e+00,  1.5880e+01,  2.2690e+01,  2.8530e+01],\n",
              "       [ 2.8300e+00,  1.8020e+01, -2.5450e+01, -3.2450e+01,  7.5000e+00],\n",
              "       [ 1.9700e+00, -1.0490e+01, -1.8000e-01, -3.2100e+01, -4.0310e+01],\n",
              "       [-3.8090e+01, -4.6160e+01, -7.8700e+00, -3.3970e+01, -3.8390e+01],\n",
              "       [-3.9700e+00, -3.2220e+01, -3.3950e+01, -1.1070e+01, -3.2470e+01],\n",
              "       [ 4.4500e+00, -1.0880e+01,  2.0430e+01,  6.5700e+00, -8.4900e+00],\n",
              "       [ 5.0220e+01,  5.1290e+01,  8.0020e+01,  6.6150e+01,  8.4900e+01],\n",
              "       [ 1.6411e+02,  1.9026e+02,  1.6094e+02,  1.8235e+02,  1.6318e+02],\n",
              "       [ 3.3175e+02,  3.0651e+02,  2.7840e+02,  3.0213e+02,  3.3544e+02],\n",
              "       [ 5.1706e+02,  4.8320e+02,  4.7673e+02,  5.1216e+02,  5.0064e+02]])"
            ]
          },
          "metadata": {}
        }
      ]
    },
    {
      "cell_type": "code",
      "metadata": {
        "colab": {
          "base_uri": "https://localhost:8080/",
          "height": 53
        },
        "id": "973260da",
        "outputId": "63418081-9807-4445-ea90-2ad3d087fff4"
      },
      "source": [
        "# Calculate the mean of the y-values for each x\n",
        "y_mean = np.mean(y_data, axis=1)\n",
        "\n",
        "# Perform cubic polynomial fit (degree=3)\n",
        "coefficients = np.polyfit(x_data, y_mean, 3)\n",
        "\n",
        "print(\"Cubic polynomial coefficients (p[0]*x^3 + p[1]*x^2 + p[2]*x + p[3]):\")\n",
        "display(coefficients)"
      ],
      "execution_count": 11,
      "outputs": [
        {
          "output_type": "stream",
          "name": "stdout",
          "text": [
            "Cubic polynomial coefficients (p[0]*x^3 + p[1]*x^2 + p[2]*x + p[3]):\n"
          ]
        },
        {
          "output_type": "display_data",
          "data": {
            "text/plain": [
              "array([  0.8814571 ,  -2.5883747 , -13.09160479,   9.52582656])"
            ]
          },
          "metadata": {}
        }
      ]
    },
    {
      "cell_type": "code",
      "metadata": {
        "colab": {
          "base_uri": "https://localhost:8080/"
        },
        "id": "ab36fb66",
        "outputId": "7d8ad11d-7505-48c3-e8da-7fed3d385857"
      },
      "source": [
        "# Calculate the standard deviation of the residuals as an estimate of the uncertainty\n",
        "uncertainty = np.std(residuals)\n",
        "\n",
        "print(f\"Estimated uncertainty of the cubic polynomial fit (standard deviation of residuals): {uncertainty:.4f}\")"
      ],
      "execution_count": 14,
      "outputs": [
        {
          "output_type": "stream",
          "name": "stdout",
          "text": [
            "Estimated uncertainty of the cubic polynomial fit (standard deviation of residuals): 3.8752\n"
          ]
        }
      ]
    },
    {
      "cell_type": "code",
      "metadata": {
        "colab": {
          "base_uri": "https://localhost:8080/",
          "height": 71
        },
        "id": "ed762059",
        "outputId": "373dbb7f-53ee-41d6-8479-f56928c1bb4c"
      },
      "source": [
        "# Calculate the residuals (difference between observed mean y and predicted y)\n",
        "residuals = y_mean - y_predicted\n",
        "\n",
        "print(\"Residuals:\")\n",
        "display(residuals)"
      ],
      "execution_count": 13,
      "outputs": [
        {
          "output_type": "stream",
          "name": "stdout",
          "text": [
            "Residuals:\n"
          ]
        },
        {
          "output_type": "display_data",
          "data": {
            "text/plain": [
              "array([-2.43182656,  1.07948317,  6.42801748, -2.67327198, -0.26143357,\n",
              "       -5.80903215, -2.09930895,  6.07723444,  2.96154969, -3.27141157])"
            ]
          },
          "metadata": {}
        }
      ]
    },
    {
      "cell_type": "code",
      "metadata": {
        "colab": {
          "base_uri": "https://localhost:8080/",
          "height": 88
        },
        "id": "c73f18f1",
        "outputId": "f0614430-8eca-4f8a-9abb-d3ebd0b37fcc"
      },
      "source": [
        "# Create a polynomial function from the coefficients\n",
        "cubic_polynomial = np.poly1d(coefficients)\n",
        "\n",
        "# Calculate the predicted y-values using the fitted polynomial\n",
        "y_predicted = cubic_polynomial(x_data)\n",
        "\n",
        "print(\"Predicted y-values:\")\n",
        "display(y_predicted)"
      ],
      "execution_count": 12,
      "outputs": [
        {
          "output_type": "stream",
          "name": "stdout",
          "text": [
            "Predicted y-values:\n"
          ]
        },
        {
          "output_type": "display_data",
          "data": {
            "text/plain": [
              "array([  9.52582656,  -6.98948317, -22.65001748, -30.22272802,\n",
              "       -22.47456643,   8.22503215,  68.61530895, 166.09076556,\n",
              "       307.88445031, 501.22941157])"
            ]
          },
          "metadata": {}
        }
      ]
    },
    {
      "cell_type": "markdown",
      "metadata": {
        "id": "6x6oM9uQ4c54"
      },
      "source": [
        "## b) Your manager thinks this should be a quadratic. Which do you think it should be and why?\n",
        "\n",
        "{Answer}"
      ]
    },
    {
      "cell_type": "code",
      "source": [
        "# Perform quadratic polynomial fit (degree=2)\n",
        "coefficients_quadratic = np.polyfit(x_data, y_mean, 2)\n",
        "\n",
        "# Create a polynomial function from the quadratic coefficients\n",
        "quadratic_polynomial = np.poly1d(coefficients_quadratic)\n",
        "\n",
        "# Calculate the predicted y-values using the fitted quadratic polynomial\n",
        "y_predicted_quadratic = quadratic_polynomial(x_data)\n",
        "\n",
        "# Calculate the residuals for the quadratic fit\n",
        "residuals_quadratic = y_mean - y_predicted_quadratic\n",
        "\n",
        "# Calculate the standard deviation of the quadratic residuals as an estimate of the uncertainty\n",
        "uncertainty_quadratic = np.std(residuals_quadratic)\n",
        "\n",
        "print(f\"Estimated uncertainty of the quadratic polynomial fit (standard deviation of residuals): {uncertainty_quadratic:.4f}\")\n",
        "\n",
        "# Compare the uncertainties\n",
        "print(f\"\\nUncertainty of cubic fit: {uncertainty:.4f}\")\n",
        "print(f\"Uncertainty of quadratic fit: {uncertainty_quadratic:.4f}\")"
      ],
      "metadata": {
        "colab": {
          "base_uri": "https://localhost:8080/"
        },
        "id": "YKrtImpYFh0Q",
        "outputId": "50066c7a-6f63-414f-89cd-8ad0c77be120"
      },
      "execution_count": 15,
      "outputs": [
        {
          "output_type": "stream",
          "name": "stdout",
          "text": [
            "Estimated uncertainty of the quadratic polynomial fit (standard deviation of residuals): 21.6075\n",
            "\n",
            "Uncertainty of cubic fit: 3.8752\n",
            "Uncertainty of quadratic fit: 21.6075\n"
          ]
        }
      ]
    },
    {
      "cell_type": "markdown",
      "metadata": {
        "id": "e04bf42b"
      },
      "source": [
        "Based on the calculated uncertainties, we can compare the two fits.\n",
        "\n",
        "The estimated uncertainty for the cubic polynomial fit is approximately **3.8752**.\n",
        "The estimated uncertainty for the quadratic polynomial fit is approximately **21.6075**.\n",
        "\n",
        "Since the uncertainty of the cubic fit is significantly lower than that of the quadratic fit, the cubic polynomial provides a much better fit to the data. This suggests that a cubic model is more appropriate for describing the relationship between x and the mean y-values in this experiment."
      ]
    }
  ],
  "metadata": {
    "colab": {
      "provenance": []
    },
    "kernelspec": {
      "display_name": "base",
      "language": "python",
      "name": "python3"
    },
    "language_info": {
      "codemirror_mode": {
        "name": "ipython",
        "version": 3
      },
      "file_extension": ".py",
      "mimetype": "text/x-python",
      "name": "python",
      "nbconvert_exporter": "python",
      "pygments_lexer": "ipython3",
      "version": "3.12.4"
    }
  },
  "nbformat": 4,
  "nbformat_minor": 0
}