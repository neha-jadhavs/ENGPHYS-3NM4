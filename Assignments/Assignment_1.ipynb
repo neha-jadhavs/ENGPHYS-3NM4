{
  "cells": [
    {
      "cell_type": "markdown",
      "metadata": {
        "id": "XY9jOMu9oH0x"
      },
      "source": [
        "# Assignment 1\n",
        "\n",
        "Due end of day Thursday Sept 18th."
      ]
    },
    {
      "cell_type": "markdown",
      "metadata": {
        "id": "_8O2j2E3oM0Z"
      },
      "source": [
        "## Question 1:\n",
        "{method, implementation, answer}\n",
        "\n",
        "Examine the value of sparse matricies by comparing the approximate computational efficiencies of sparse and dense solvers (on the same system). Use the %timeit function to approximate the complexity.\n",
        "\n",
        "HINT: Refer to the lecture notes on how to generate, store, and apply sparse solvers.  "
      ]
    },
    {
      "cell_type": "code",
      "source": [
        "import numpy as np\n",
        "from scipy.sparse import csr_matrix\n",
        "from scipy.sparse.linalg import spsolve\n",
        "from numpy.linalg import solve\n",
        "\n",
        "# Generate a large sparse matrix\n",
        "n = 1000\n",
        "density = 0.01  # 1% non-zero elements\n",
        "A_sparse = csr_matrix((np.random.rand(int(n*n*density)),\n",
        "                      (np.random.randint(0, n, int(n*n*density)),\n",
        "                       np.random.randint(0, n, int(n*n*density)))),\n",
        "                      shape=(n, n))\n",
        "\n",
        "# Convert to a dense matrix for comparison\n",
        "A_dense = A_sparse.toarray()\n",
        "\n",
        "# Generate a random right-hand side vector\n",
        "b = np.random.rand(n)\n",
        "\n",
        "print(\"Time taken for sparse solver:\")\n",
        "%timeit spsolve(A_sparse, b)\n",
        "\n",
        "print(\"\\nTime taken for dense solver:\")\n",
        "%timeit solve(A_dense, b)"
      ],
      "metadata": {
        "colab": {
          "base_uri": "https://localhost:8080/"
        },
        "id": "wi-FH7_WQtPc",
        "outputId": "817096f4-2f19-4209-f61e-bf8067668a6a"
      },
      "execution_count": 2,
      "outputs": [
        {
          "output_type": "stream",
          "name": "stdout",
          "text": [
            "Time taken for sparse solver:\n",
            "135 ms ± 26.5 ms per loop (mean ± std. dev. of 7 runs, 10 loops each)\n",
            "\n",
            "Time taken for dense solver:\n",
            "41.2 ms ± 1.65 ms per loop (mean ± std. dev. of 7 runs, 10 loops each)\n"
          ]
        }
      ]
    },
    {
      "cell_type": "markdown",
      "metadata": {
        "id": "Eyyj6js9TS7g"
      },
      "source": [
        "## Question 2\n",
        "\n",
        "Consider the truss:\n",
        "\n",
        "![image.png](data:image/png;base64,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)\n"
      ]
    },
    {
      "cell_type": "markdown",
      "metadata": {
        "id": "QcdY0wACTwcN"
      },
      "source": [
        "### 2a) Write the linear system for the tensions $P_i$ as equations and in matrix form\n",
        "\n"
      ]
    },
    {
      "cell_type": "code",
      "source": [
        "import numpy as np\n",
        "\n",
        "# Define the constants for the 45-degree angles\n",
        "c = np.cos(np.radians(45))  # cos(45 degrees)\n",
        "s = np.sin(np.radians(45))  # sin(45 degrees)\n",
        "\n",
        "A = np.array([\n",
        "    [0, 1, 0, 0, c, 0],\n",
        "    [0, 0, 0, 0, s, 0],\n",
        "    [-1, 1, -c, 0, 0, 0],\n",
        "    [0, 0, s, 1, 0, 0],\n",
        "    [0, 0, 0, 0, -c, -1],\n",
        "    [0, 0, 0, -1, s, 0],\n",
        "    [0, 0, c, 0, 0, 1],\n",
        "    [0, 0, s, 0, 0, 0]\n",
        "])\n",
        "\n",
        "# Define the right-hand side vector (b) representing the external forces\n",
        "b = np.array([0, 12, 0, 18, 0, 0, 0, 0])\n",
        "\n",
        "x, residuals, rank, s_vals = np.linalg.lstsq(A, b, rcond=None)\n",
        "\n",
        "# Print the solution\n",
        "print(\"The solution for the tensions P_i is:\")\n",
        "print(f\"P1 = {x[0]:.2f} kN\")\n",
        "print(f\"P2 = {x[1]:.2f} kN\")\n",
        "print(f\"P3 = {x[2]:.2f} kN\")\n",
        "print(f\"P4 = {x[3]:.2f} kN\")\n",
        "print(f\"P5 = {x[4]:.2f} kN\")\n",
        "print(f\"P6 = {x[5]:.2f} kN\")\n",
        "\n",
        "# manually check the values\n",
        "print(\"\\nPrecise values:\")\n",
        "print(f\"P5_precise = {12/s} kN\")\n",
        "print(f\"P1_precise = {-12} kN\")\n",
        "print(f\"P2_precise = {-12} kN\")\n",
        "print(f\"P3_precise = {0} kN\")\n",
        "print(f\"P4_precise = {18} kN\")\n",
        "print(f\"P6_precise = {0} kN\")"
      ],
      "metadata": {
        "colab": {
          "base_uri": "https://localhost:8080/"
        },
        "id": "hShm6FgXhDCJ",
        "outputId": "fae17221-8a62-42f0-c014-36ab9907f6f3"
      },
      "execution_count": 7,
      "outputs": [
        {
          "output_type": "stream",
          "name": "stdout",
          "text": [
            "The solution for the tensions P_i is:\n",
            "P1 = -15.00 kN\n",
            "P2 = -10.50 kN\n",
            "P3 = 6.36 kN\n",
            "P4 = 12.00 kN\n",
            "P5 = 14.85 kN\n",
            "P6 = -7.50 kN\n",
            "\n",
            "Precise values:\n",
            "P5_precise = 16.970562748477143 kN\n",
            "P1_precise = -12 kN\n",
            "P2_precise = -12 kN\n",
            "P3_precise = 0 kN\n",
            "P4_precise = 18 kN\n",
            "P6_precise = 0 kN\n"
          ]
        }
      ]
    },
    {
      "cell_type": "markdown",
      "metadata": {
        "id": "c7jrkhNjRWl8"
      },
      "source": [
        "Here is the linear system for the tensions $P_i$ as equations:\n",
        "\n",
        "From the equilibrium of forces at each joint:\n",
        "\n",
        "**Joint 1:**\n",
        "Horizontal: $-P_1 + P_3 \\cos(45^\\circ) = 0$\n",
        "Vertical: $P_2 + P_3 \\sin(45^\\circ) - 18 = 0$\n",
        "\n",
        "**Joint 2:**\n",
        "Horizontal: $P_1 - P_4 = 0$\n",
        "Vertical: $-P_3 \\sin(45^\\circ) - P_5 - 12 = 0$\n",
        "\n",
        "**Joint 3:**\n",
        "Horizontal: $P_4 - P_6 = 0$\n",
        "Vertical: $P_5 + P_7 = 0$\n",
        "\n",
        "**Joint 4:**\n",
        "Horizontal: $P_6 - P_3 \\cos(45^\\circ) = 0$\n",
        "Vertical: $-P_7 = 0$\n",
        "\n",
        "Here is the linear system in matrix form $AP = b$:\n",
        "\n",
        "$$\n",
        "\\begin{bmatrix}\n",
        "-1 & 0 & \\cos(45^\\circ) & 0 & 0 & 0 & 0 \\\\\n",
        "0 & 1 & \\sin(45^\\circ) & 0 & 0 & 0 & 0 \\\\\n",
        "1 & 0 & 0 & -1 & 0 & 0 & 0 \\\\\n",
        "0 & 0 & -\\sin(45^\\circ) & 0 & -1 & 0 & 0 \\\\\n",
        "0 & 0 & 0 & 1 & 0 & -1 & 0 \\\\\n",
        "0 & 0 & -\\cos(45^\\circ) & 0 & 0 & 1 & 0 \\\\\n",
        "0 & 0 & 0 & 0 & 1 & 0 & 1\n",
        "\\end{bmatrix}\n",
        "\\begin{bmatrix}\n",
        "P_1 \\\\ P_2 \\\\ P_3 \\\\ P_4 \\\\ P_5 \\\\ P_6 \\\\ P_7\n",
        "\\end{bmatrix}\n",
        "=\n",
        "\\begin{bmatrix}\n",
        "0 \\\\ 18 \\\\ 0 \\\\ 12 \\\\ 0 \\\\ 0 \\\\ 0\n",
        "\\end{bmatrix}\n",
        "$$"
      ]
    },
    {
      "cell_type": "markdown",
      "metadata": {
        "id": "O7_OZCNFT04n"
      },
      "source": [
        "### 2b) Solve for $P_i$ using LU decomposition and substitution.\n",
        "{method, answer}"
      ]
    },
    {
      "cell_type": "code",
      "source": [
        "import numpy as np\n",
        "from scipy.linalg import lu_factor, lu_solve\n",
        "\n",
        "# Define the matrix A and vector b\n",
        "A = np.array([\n",
        "    [-1, 0, np.cos(np.deg2rad(45)), 0, 0, 0, 0],\n",
        "    [0, 1, np.sin(np.deg2rad(45)), 0, 0, 0, 0],\n",
        "    [1, 0, 0, -1, 0, 0, 0],\n",
        "    [0, 0, -np.sin(np.deg2rad(45)), 0, -1, 0, 0],\n",
        "    [0, 0, 0, 1, 0, -1, 0],\n",
        "    [0, 0, -np.cos(np.deg2rad(45)), 0, 0, 1, 0],\n",
        "    [0, 0, 0, 0, 1, 0, 1]\n",
        "])\n",
        "\n",
        "b = np.array([0, 18, 0, 12, 0, 0, 0])\n",
        "\n",
        "# Perform LU decomposition\n",
        "lu, piv = lu_factor(A)\n",
        "\n",
        "# Solve the system using LU decomposition\n",
        "P = lu_solve((lu, piv), b)\n",
        "\n",
        "print(\"The tensions Pi are:\")\n",
        "for i, p in enumerate(P):\n",
        "    print(f\"P{i+1}: {p:.4f}\")"
      ],
      "metadata": {
        "colab": {
          "base_uri": "https://localhost:8080/"
        },
        "id": "3sCTYm97Rdx_",
        "outputId": "ebb2e5cd-be19-445b-b3b8-497309a04068"
      },
      "execution_count": 3,
      "outputs": [
        {
          "output_type": "stream",
          "name": "stdout",
          "text": [
            "The tensions Pi are:\n",
            "P1: nan\n",
            "P2: nan\n",
            "P3: nan\n",
            "P4: nan\n",
            "P5: nan\n",
            "P6: nan\n",
            "P7: nan\n"
          ]
        },
        {
          "output_type": "stream",
          "name": "stderr",
          "text": [
            "/usr/local/lib/python3.12/dist-packages/scipy/_lib/_util.py:1233: LinAlgWarning: Diagonal number 7 is exactly zero. Singular matrix.\n",
            "  return f(*arrays, *other_args, **kwargs)\n"
          ]
        }
      ]
    },
    {
      "cell_type": "markdown",
      "metadata": {
        "id": "F1QiWtJPUq6e"
      },
      "source": [
        "### 2c)  Double the loads (18 kN and 12 kN) and solve for $P_i$ again *without refactoring*.\n",
        "{answer}"
      ]
    },
    {
      "cell_type": "markdown",
      "metadata": {
        "id": "bn1Z6f05VNNI"
      },
      "source": [
        "## Question 3\n",
        "\n",
        "Consider the matrix:\n",
        "\n",
        "$$ A = \\begin{bmatrix} 1 & 2 \\\\ 3 & 4 \\end{bmatrix}$$"
      ]
    },
    {
      "cell_type": "markdown",
      "metadata": {
        "id": "B0mIIg2XXh-X"
      },
      "source": [
        "## 3a) Calculate the condition number of A\n",
        "{answer}"
      ]
    },
    {
      "cell_type": "code",
      "source": [
        "import numpy as np\n",
        "\n",
        "# Define the matrix A\n",
        "A = np.array([[1, 2],\n",
        "              [3, 4]])\n",
        "\n",
        "# Calculate the condition number\n",
        "condition_number = np.linalg.cond(A)\n",
        "\n",
        "print(f\"The condition number of A is: {condition_number:.4f}\")"
      ],
      "metadata": {
        "colab": {
          "base_uri": "https://localhost:8080/"
        },
        "id": "Mt4ycvPIWiVK",
        "outputId": "17ae0094-e16d-4b08-9ef0-a6bea4c6cde1"
      },
      "execution_count": 4,
      "outputs": [
        {
          "output_type": "stream",
          "name": "stdout",
          "text": [
            "The condition number of A is: 14.9330\n"
          ]
        }
      ]
    },
    {
      "cell_type": "markdown",
      "metadata": {
        "id": "uounfmQUb5fH"
      },
      "source": [
        "## 3b) Let's use a preconditioner matrix $P$ to improve the condition number of the product $P^{-1} A$. Give 2 examples of $P$ that improve the condition number.\n",
        "\n",
        "Can you identify the 'perfect' preconditioner? (Consider the easiest matrix to solve!)\n",
        "{answer, answer}"
      ]
    },
    {
      "cell_type": "code",
      "metadata": {
        "colab": {
          "base_uri": "https://localhost:8080/"
        },
        "id": "01d0da4f",
        "outputId": "43b7bedd-45db-410f-ec16-95ea24e2d22d"
      },
      "source": [
        "import numpy as np\n",
        "from scipy.linalg import lu_factor, lu_solve\n",
        "\n",
        "# Define the matrix A\n",
        "A = np.array([[1, 2],\n",
        "              [3, 4]])\n",
        "\n",
        "# 1. Diagonal Preconditioner (Jacobi Preconditioner)\n",
        "P_diag = np.diag(np.diag(A))\n",
        "print(\"Diagonal Preconditioner P:\")\n",
        "print(P_diag)\n",
        "\n",
        "# Calculate P_diag_inv * A\n",
        "P_diag_inv_A = np.linalg.inv(P_diag) @ A\n",
        "print(\"\\nP_diag_inv * A:\")\n",
        "print(P_diag_inv_A)\n",
        "\n",
        "# Calculate the condition number of P_diag_inv * A\n",
        "condition_number_diag = np.linalg.cond(P_diag_inv_A)\n",
        "print(f\"\\nCondition number with Diagonal Preconditioner: {condition_number_diag:.4f}\")\n",
        "\n",
        "# The 'perfect' preconditioner P = A\n",
        "P_perfect = A\n",
        "print(\"\\n'Perfect' Preconditioner P:\")\n",
        "print(P_perfect)\n",
        "\n",
        "# Calculate P_perfect_inv * A\n",
        "P_perfect_inv_A = np.linalg.inv(P_perfect) @ A\n",
        "print(\"\\nP_perfect_inv * A:\")\n",
        "print(P_perfect_inv_A)\n",
        "\n",
        "# Calculate the condition number of P_perfect_inv * A\n",
        "condition_number_perfect = np.linalg.cond(P_perfect_inv_A)\n",
        "print(f\"\\nCondition number with 'Perfect' Preconditioner: {condition_number_perfect:.4f}\")"
      ],
      "execution_count": 5,
      "outputs": [
        {
          "output_type": "stream",
          "name": "stdout",
          "text": [
            "Diagonal Preconditioner P:\n",
            "[[1 0]\n",
            " [0 4]]\n",
            "\n",
            "P_diag_inv * A:\n",
            "[[1.   2.  ]\n",
            " [0.75 1.  ]]\n",
            "\n",
            "Condition number with Diagonal Preconditioner: 13.0484\n",
            "\n",
            "'Perfect' Preconditioner P:\n",
            "[[1 2]\n",
            " [3 4]]\n",
            "\n",
            "P_perfect_inv * A:\n",
            "[[1.00000000e+00 0.00000000e+00]\n",
            " [1.11022302e-16 1.00000000e+00]]\n",
            "\n",
            "Condition number with 'Perfect' Preconditioner: 1.0000\n"
          ]
        }
      ]
    }
  ],
  "metadata": {
    "colab": {
      "provenance": []
    },
    "kernelspec": {
      "display_name": "Python 3",
      "name": "python3"
    },
    "language_info": {
      "name": "python"
    }
  },
  "nbformat": 4,
  "nbformat_minor": 0
}